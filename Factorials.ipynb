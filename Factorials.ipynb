{
 "metadata": {
  "name": "",
  "signature": "sha256:7923ea193f610fbfcd45af1ea423375138f7d322571bf8d7155a25d37ea791a7"
 },
 "nbformat": 3,
 "nbformat_minor": 0,
 "worksheets": [
  {
   "cells": [
    {
     "cell_type": "markdown",
     "metadata": {},
     "source": [
      "Let's calculate factorials\n",
      "==========================\n",
      "\n",
      "$$n!=\\prod_{k=1}^n k \\!$$"
     ]
    },
    {
     "cell_type": "code",
     "collapsed": false,
     "input": [
      "def recursive_factorial(n):\n",
      "    if n == 0:\n",
      "        return 1\n",
      "    else:\n",
      "        return n * recursive_factorial(n-1)\n",
      "    \n",
      "%timeit recursive_factorial(8)"
     ],
     "language": "python",
     "metadata": {},
     "outputs": [
      {
       "output_type": "stream",
       "stream": "stdout",
       "text": [
        "1000000 loops, best of 3: 1.19 \u00b5s per loop\n"
       ]
      }
     ],
     "prompt_number": 8
    },
    {
     "cell_type": "code",
     "collapsed": false,
     "input": [
      "def non_recursive_factorial(n):\n",
      "    num = 1\n",
      "    while n >= 1:\n",
      "        num = num * n\n",
      "        n = n - 1\n",
      "    return num\n",
      "\n",
      "%timeit non_recursive_factorial(8)"
     ],
     "language": "python",
     "metadata": {},
     "outputs": [
      {
       "output_type": "stream",
       "stream": "stdout",
       "text": [
        "1000000 loops, best of 3: 649 ns per loop\n"
       ]
      }
     ],
     "prompt_number": 10
    },
    {
     "cell_type": "markdown",
     "metadata": {},
     "source": [
      "I can execute shell commands locally\n",
      "------------------------------------"
     ]
    },
    {
     "cell_type": "code",
     "collapsed": false,
     "input": [
      "ls"
     ],
     "language": "python",
     "metadata": {},
     "outputs": [
      {
       "output_type": "stream",
       "stream": "stdout",
       "text": [
        "Average price paid.ipynb  Presentation.ipynb\r\n",
        "Factorials.ipynb          Presentation.slides.html\r\n",
        "kernel.png                Price paid distribution in Lambeth.ipynb\r\n",
        "notebook.jpg              \u001b[0m\u001b[01;36mreveal.js\u001b[0m@\r\n"
       ]
      }
     ],
     "prompt_number": 12
    },
    {
     "cell_type": "markdown",
     "metadata": {},
     "source": [
      "Or display HTML content\n",
      "-----------------------"
     ]
    },
    {
     "cell_type": "code",
     "collapsed": false,
     "input": [
      "from IPython.display import HTML\n",
      "HTML(\"\"\"\n",
      "<table>\n",
      "  <tr><th>Algorithm</th><th>Speed</th></tr>\n",
      "  <tr><td>Recursive</td><td>Not fast</td></tr>\n",
      "  <tr><td>Non-recursive</td><td>Fast</td></tr>\n",
      "</table>\n",
      "\"\"\")"
     ],
     "language": "python",
     "metadata": {},
     "outputs": [
      {
       "html": [
        "\n",
        "<table>\n",
        "  <tr><th>Algorithm</th><th>Speed</th></tr>\n",
        "  <tr><td>Recursive</td><td>Not fast</td></tr>\n",
        "  <tr><td>Non-recursive</td><td>Fast</td></tr>\n",
        "</table>\n"
       ],
       "metadata": {},
       "output_type": "pyout",
       "prompt_number": 14,
       "text": [
        "<IPython.core.display.HTML at 0x7ff1095a5450>"
       ]
      }
     ],
     "prompt_number": 14
    }
   ],
   "metadata": {}
  }
 ]
}