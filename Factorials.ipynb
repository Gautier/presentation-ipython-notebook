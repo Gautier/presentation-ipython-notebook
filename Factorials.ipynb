{
 "metadata": {
  "name": "",
  "signature": "sha256:7923ea193f610fbfcd45af1ea423375138f7d322571bf8d7155a25d37ea791a7"
 },
 "nbformat": 3,
 "nbformat_minor": 0,
 "worksheets": [
  {
   "cells": [
    {
     "cell_type": "markdown",
     "metadata": {},
     "source": [
      "Let's calculate factorials\n",
      "==========================\n",
      "\n",
      "$$n!=\\prod_{k=1}^n k \\!$$"
     ]
    },
    {
     "cell_type": "code",
     "collapsed": false,
     "input": [
      "N = 8"
     ],
     "language": "python",
     "metadata": {},
     "outputs": [],
     "prompt_number": 2
    },
    {
     "cell_type": "code",
     "collapsed": false,
     "input": [
      "def recursive_factorial(n):\n",
      "    if n == 0:\n",
      "        return 1\n",
      "    else:\n",
      "        return n * recursive_factorial(n-1)\n",
      "    \n",
      "recursive_factorial(N)"
     ],
     "language": "python",
     "metadata": {},
     "outputs": [
      {
       "metadata": {},
       "output_type": "pyout",
       "prompt_number": 7,
       "text": [
        "40320"
       ]
      }
     ],
     "prompt_number": 7
    },
    {
     "cell_type": "markdown",
     "metadata": {},
     "source": [
      "I can execute local shell commands\n",
      "----------------------------------"
     ]
    },
    {
     "cell_type": "code",
     "collapsed": false,
     "input": [
      "ls"
     ],
     "language": "python",
     "metadata": {},
     "outputs": [
      {
       "output_type": "stream",
       "stream": "stdout",
       "text": [
        "Average price paid.ipynb  Presentation.slides.html\r\n",
        "Factorials.ipynb          Price paid distribution in Lambeth.ipynb\r\n",
        "kernel.png                \u001b[0m\u001b[01;34mreveal.js\u001b[0m/\r\n",
        "notebook.jpg              sgt_peppers.jpg\r\n",
        "pp-2014.csv               twistd.pid\r\n",
        "Presentation.ipynb        warning_gangam.png\r\n"
       ]
      }
     ],
     "prompt_number": 12
    },
    {
     "cell_type": "markdown",
     "metadata": {},
     "source": [
      "Or display HTML content\n",
      "-----------------------"
     ]
    },
    {
     "cell_type": "code",
     "collapsed": false,
     "input": [
      "from IPython.display import HTML\n",
      "HTML(\"\"\"\n",
      "<table>\n",
      "  <tr><th>Algorithm</th><th>Speed</th></tr>\n",
      "  <tr><td>Recursive</td><td>Not fast</td></tr>\n",
      "  <tr><td>Non-recursive</td><td>Fast</td></tr>\n",
      "</table>\n",
      "\"\"\")"
     ],
     "language": "python",
     "metadata": {},
     "outputs": [
      {
       "html": [
        "\n",
        "<table>\n",
        "  <tr><th>Algorithm</th><th>Speed</th></tr>\n",
        "  <tr><td>Recursive</td><td>Not fast</td></tr>\n",
        "  <tr><td>Non-recursive</td><td>Fast</td></tr>\n",
        "</table>\n"
       ],
       "metadata": {},
       "output_type": "pyout",
       "prompt_number": 14,
       "text": [
        "<IPython.core.display.HTML at 0x7ff1095a5450>"
       ]
      }
     ],
     "prompt_number": 14
    }
   ],
   "metadata": {}
  }
 ]
}