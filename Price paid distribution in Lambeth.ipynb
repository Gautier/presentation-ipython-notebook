{
 "metadata": {
  "name": "",
  "signature": "sha256:d7d06bb60b8d2cc6d0f4cd31846660789ee30b2939d3707e44064f3c2bac4c2f"
 },
 "nbformat": 3,
 "nbformat_minor": 0,
 "worksheets": [
  {
   "cells": [
    {
     "cell_type": "markdown",
     "metadata": {},
     "source": [
      "What is the distribution of price paid for houses so far in 2014 in Lambeth?\n",
      "----------------------------------------------------------------------------"
     ]
    },
    {
     "cell_type": "code",
     "collapsed": false,
     "input": [
      "#import requests\n",
      "#r = requests.get(\"http://publicdata.landregistry.gov.uk/market-trend-data/price-paid-data/b/pp-2014.csv\")\n",
      "f = open(\"pp-2014.csv\")"
     ],
     "language": "python",
     "metadata": {},
     "outputs": [],
     "prompt_number": 2
    },
    {
     "cell_type": "code",
     "collapsed": false,
     "input": [
      "from StringIO import StringIO\n",
      "import csv\n",
      "\n",
      "#reader = csv.reader(StringIO(r.content))\n",
      "reader = csv.reader(f)\n",
      "\n",
      "lines = list(reader)\n",
      "lines[:1]"
     ],
     "language": "python",
     "metadata": {},
     "outputs": [
      {
       "metadata": {},
       "output_type": "pyout",
       "prompt_number": 3,
       "text": [
        "[['{28546906-0904-4AE6-AC52-0000473026D5}',\n",
        "  '69995',\n",
        "  '2014-04-17 00:00',\n",
        "  'B96 6BW',\n",
        "  'F',\n",
        "  'N',\n",
        "  'L',\n",
        "  'EASTWOOD COURT, 2',\n",
        "  'FLAT 21',\n",
        "  'FOREGATE STREET',\n",
        "  'ASTWOOD BANK',\n",
        "  'REDDITCH',\n",
        "  'REDDITCH',\n",
        "  'WORCESTERSHIRE',\n",
        "  'A']]"
       ]
      }
     ],
     "prompt_number": 3
    },
    {
     "cell_type": "markdown",
     "metadata": {},
     "source": [
      "UK-wide stats\n",
      "-------------"
     ]
    },
    {
     "cell_type": "code",
     "collapsed": false,
     "input": [
      "import numpy\n",
      "\n",
      "prices_paid = [int(line[1]) for line in lines]\n",
      "\n",
      "dict(\n",
      "    count=\"{0:,d}\".format(len(prices_paid)),\n",
      "    min=\"{0:,d}\".format(numpy.amin(prices_paid)),\n",
      "    max=\"{0:,d}\".format(numpy.amax(prices_paid)),\n",
      "    average=\"{0:.2f}\".format(numpy.average(prices_paid))\n",
      ")"
     ],
     "language": "python",
     "metadata": {},
     "outputs": [
      {
       "metadata": {},
       "output_type": "pyout",
       "prompt_number": 4,
       "text": [
        "{'average': '254423.52',\n",
        " 'count': '437,952',\n",
        " 'max': '27,900,000',\n",
        " 'min': '7,000'}"
       ]
      }
     ],
     "prompt_number": 4
    },
    {
     "cell_type": "markdown",
     "metadata": {},
     "source": [
      "Lambeth price paid stats\n",
      "------------------------"
     ]
    },
    {
     "cell_type": "code",
     "collapsed": false,
     "input": [
      "import numpy\n",
      "\n",
      "lambeth_prices_paid = [int(line[1]) for line in lines if line[12] == 'LAMBETH']\n",
      "\n",
      "dict(\n",
      "    count=\"{0:,d}\".format(len(lambeth_prices_paid)),\n",
      "    min=\"{0:,d}\".format(numpy.amin(lambeth_prices_paid)),\n",
      "    max=\"{0:,d}\".format(numpy.amax(lambeth_prices_paid)),\n",
      "    average=\"{0:.2f}\".format(numpy.average(lambeth_prices_paid))\n",
      ")\n"
     ],
     "language": "python",
     "metadata": {},
     "outputs": [
      {
       "metadata": {},
       "output_type": "pyout",
       "prompt_number": 5,
       "text": [
        "{'average': '568331.22',\n",
        " 'count': '2,353',\n",
        " 'max': '13,591,250',\n",
        " 'min': '66,250'}"
       ]
      }
     ],
     "prompt_number": 5
    },
    {
     "cell_type": "markdown",
     "metadata": {},
     "source": [
      "Lambeth prices distribution\n",
      "---------------------------"
     ]
    },
    {
     "cell_type": "code",
     "collapsed": false,
     "input": [
      "%matplotlib inline\n",
      "import matplotlib.pyplot as plt\n",
      "\n",
      "cheaper_lambeth_prices_paid = [price for price in lambeth_prices_paid if price < 1000000]\n",
      "\n",
      "n, bins, patches = plt.hist(cheaper_lambeth_prices_paid, bins=20)\n",
      "plt.xlabel('House Price')\n",
      "plt.ylabel('Number of transactions')\n",
      "plt.xticks([i * 100000  for i in range(1, 10)], ['{0:0d}00k'.format(i) for i in range(1, 10)])\n",
      "plt.show()"
     ],
     "language": "python",
     "metadata": {},
     "outputs": [
      {
       "metadata": {},
       "output_type": "display_data",
       "png": "[encoded data removed]",
       "text": [
        "<matplotlib.figure.Figure at 0x7fcfb3a6a710>"
       ]
      }
     ],
     "prompt_number": 6
    }
   ],
   "metadata": {}
  }
 ]
}