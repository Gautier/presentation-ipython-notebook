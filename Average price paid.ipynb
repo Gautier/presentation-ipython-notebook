{
 "metadata": {
  "name": "",
  "signature": "sha256:e6e78a07d08caa2cf565e67dcd7e786016fe0b0502a713e0d6d60a2d3c6bef44"
 },
 "nbformat": 3,
 "nbformat_minor": 0,
 "worksheets": [
  {
   "cells": [
    {
     "cell_type": "markdown",
     "metadata": {},
     "source": [
      "What is the average price paid for houses so far in 2014 in the UK?\n",
      "-------------------------------------------------------------------"
     ]
    },
    {
     "cell_type": "code",
     "collapsed": false,
     "input": [
      "import requests\n",
      "\n",
      "r = requests.get(\"http://publicdata.landregistry.gov.uk/market-trend-data/price-paid-data/b/pp-2014.csv\")"
     ],
     "language": "python",
     "metadata": {},
     "outputs": [],
     "prompt_number": 1
    },
    {
     "cell_type": "code",
     "collapsed": false,
     "input": [
      "from StringIO import StringIO\n",
      "import csv\n",
      "\n",
      "reader = csv.reader(StringIO(r.content))\n",
      "\n",
      "lines = list(reader)\n",
      "print lines[:2]"
     ],
     "language": "python",
     "metadata": {},
     "outputs": [
      {
       "output_type": "stream",
       "stream": "stdout",
       "text": [
        "[['{28546906-0904-4AE6-AC52-0000473026D5}', '69995', '2014-04-17 00:00', 'B96 6BW', 'F', 'N', 'L', 'EASTWOOD COURT, 2', 'FLAT 21', 'FOREGATE STREET', 'ASTWOOD BANK', 'REDDITCH', 'REDDITCH', 'WORCESTERSHIRE', 'A'], ['{DC25D2A4-383F-4D70-A43C-00005625662F}', '330000', '2014-01-20 00:00', 'KT15 3BY', 'S', 'N', 'F', '10', '', 'PINEWOOD GROVE', 'NEW HAW', 'ADDLESTONE', 'RUNNYMEDE', 'SURREY', 'A']]\n"
       ]
      }
     ],
     "prompt_number": 5
    },
    {
     "cell_type": "code",
     "collapsed": false,
     "input": [
      "from ipy_table import make_table\n",
      "\n",
      "make_table(lines[:2])"
     ],
     "language": "python",
     "metadata": {},
     "outputs": [
      {
       "html": [
        "<table border=\"1\" cellpadding=\"3\" cellspacing=\"0\"  style=\"border:1px solid black;border-collapse:collapse;\"><tr><td>{28546906-0904-4AE6-AC52-0000473026D5}</td><td>69995</td><td>2014-04-17&nbsp00:00</td><td>B96&nbsp6BW</td><td>F</td><td>N</td><td>L</td><td>EASTWOOD&nbspCOURT,&nbsp2</td><td>FLAT&nbsp21</td><td>FOREGATE&nbspSTREET</td><td>ASTWOOD&nbspBANK</td><td>REDDITCH</td><td>REDDITCH</td><td>WORCESTERSHIRE</td><td>A</td></tr><tr><td>{DC25D2A4-383F-4D70-A43C-00005625662F}</td><td>330000</td><td>2014-01-20&nbsp00:00</td><td>KT15&nbsp3BY</td><td>S</td><td>N</td><td>F</td><td>10</td><td></td><td>PINEWOOD&nbspGROVE</td><td>NEW&nbspHAW</td><td>ADDLESTONE</td><td>RUNNYMEDE</td><td>SURREY</td><td>A</td></tr>"
       ],
       "metadata": {},
       "output_type": "pyout",
       "prompt_number": 10,
       "text": [
        "<IPython.core.display.HTML at 0x7ff62b9ddc50>"
       ]
      }
     ],
     "prompt_number": 10
    },
    {
     "cell_type": "code",
     "collapsed": false,
     "input": [
      "import numpy\n",
      "\n",
      "prices_paid = [int(line[1]) for line in lines]\n",
      "\n",
      "make_table([\n",
      "    (\n",
      "     'count',\n",
      "     'min',\n",
      "     'max',\n",
      "     'average'\n",
      "    ),\n",
      "    (\n",
      "    \"{0:,d}\".format(len(prices_paid)),\n",
      "    \"{0:,d}\".format(numpy.amin(prices_paid)),\n",
      "    \"{0:,d}\".format(numpy.amax(prices_paid)),\n",
      "    \"{0:.2f}\".format(numpy.average(prices_paid))\n",
      "    )\n",
      "])"
     ],
     "language": "python",
     "metadata": {},
     "outputs": [
      {
       "html": [
        "<table border=\"1\" cellpadding=\"3\" cellspacing=\"0\"  style=\"border:1px solid black;border-collapse:collapse;\"><tr><td>count</td><td>min</td><td>max</td><td>average</td></tr><tr><td>437,952</td><td>7,000</td><td>27,900,000</td><td>254423.52</td></tr>"
       ],
       "metadata": {},
       "output_type": "pyout",
       "prompt_number": 18,
       "text": [
        "<IPython.core.display.HTML at 0x7ff5f905d7d0>"
       ]
      }
     ],
     "prompt_number": 18
    }
   ],
   "metadata": {}
  }
 ]
}