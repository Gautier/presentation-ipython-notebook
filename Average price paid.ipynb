{
 "metadata": {
  "name": "",
  "signature": "sha256:cc2addab09a0679aefcfc7a701598335a9575cc04e54a52951c7ac8636c31b46"
 },
 "nbformat": 3,
 "nbformat_minor": 0,
 "worksheets": [
  {
   "cells": [
    {
     "cell_type": "markdown",
     "metadata": {},
     "source": [
      "What is the average price paid for houses so far in 2014 in the UK?\n",
      "-------------------------------------------------------------------"
     ]
    },
    {
     "cell_type": "code",
     "collapsed": false,
     "input": [
      "import requests\n",
      "\n",
      "r = requests.get(\"http://publicdata.landregistry.gov.uk/market-trend-data/price-paid-data/b/pp-2014.csv\")"
     ],
     "language": "python",
     "metadata": {},
     "outputs": [],
     "prompt_number": 2
    },
    {
     "cell_type": "code",
     "collapsed": false,
     "input": [
      "from StringIO import StringIO\n",
      "import csv\n",
      "\n",
      "reader = csv.reader(StringIO(r.content))\n",
      "\n",
      "lines = list(reader)\n",
      "lines[:2]"
     ],
     "language": "python",
     "metadata": {},
     "outputs": [
      {
       "metadata": {},
       "output_type": "pyout",
       "prompt_number": 5,
       "text": [
        "[['{28546906-0904-4AE6-AC52-0000473026D5}',\n",
        "  '69995',\n",
        "  '2014-04-17 00:00',\n",
        "  'B96 6BW',\n",
        "  'F',\n",
        "  'N',\n",
        "  'L',\n",
        "  'EASTWOOD COURT, 2',\n",
        "  'FLAT 21',\n",
        "  'FOREGATE STREET',\n",
        "  'ASTWOOD BANK',\n",
        "  'REDDITCH',\n",
        "  'REDDITCH',\n",
        "  'WORCESTERSHIRE',\n",
        "  'A'],\n",
        " ['{DC25D2A4-383F-4D70-A43C-00005625662F}',\n",
        "  '330000',\n",
        "  '2014-01-20 00:00',\n",
        "  'KT15 3BY',\n",
        "  'S',\n",
        "  'N',\n",
        "  'F',\n",
        "  '10',\n",
        "  '',\n",
        "  'PINEWOOD GROVE',\n",
        "  'NEW HAW',\n",
        "  'ADDLESTONE',\n",
        "  'RUNNYMEDE',\n",
        "  'SURREY',\n",
        "  'A']]"
       ]
      }
     ],
     "prompt_number": 5
    },
    {
     "cell_type": "code",
     "collapsed": false,
     "input": [
      "import numpy\n",
      "\n",
      "prices_paid = [int(line[1]) for line in lines]\n",
      "\n",
      "dict(\n",
      "    count=\"{0:,d}\".format(len(prices_paid)),\n",
      "    min=\"{0:,d}\".format(numpy.amin(prices_paid)),\n",
      "    max=\"{0:,d}\".format(numpy.amax(prices_paid)),\n",
      "    average=\"{0:.2f}\".format(numpy.average(prices_paid))\n",
      ")"
     ],
     "language": "python",
     "metadata": {},
     "outputs": [
      {
       "metadata": {},
       "output_type": "pyout",
       "prompt_number": 6,
       "text": [
        "{'average': '254423.52',\n",
        " 'count': '437,952',\n",
        " 'max': '27,900,000',\n",
        " 'min': '7,000'}"
       ]
      }
     ],
     "prompt_number": 6
    }
   ],
   "metadata": {}
  }
 ]
}