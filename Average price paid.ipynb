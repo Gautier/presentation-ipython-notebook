{
 "metadata": {
  "name": "",
  "signature": "sha256:cc2addab09a0679aefcfc7a701598335a9575cc04e54a52951c7ac8636c31b46"
 },
 "nbformat": 3,
 "nbformat_minor": 0,
 "worksheets": [
  {
   "cells": [
    {
     "cell_type": "markdown",
     "metadata": {},
     "source": [
      "What is the average price paid for houses so far in 2014 in the UK?\n",
      "-------------------------------------------------------------------"
     ]
    },
    {
     "cell_type": "code",
     "collapsed": false,
     "input": [
      "import requests\n",
      "\n",
      "r = requests.get(\"http://publicdata.landregistry.gov.uk/market-trend-data/price-paid-data/b/pp-2014.csv\")"
     ],
     "language": "python",
     "metadata": {},
     "outputs": [],
     "prompt_number": "*"
    },
    {
     "cell_type": "code",
     "collapsed": false,
     "input": [
      "from StringIO import StringIO\n",
      "import csv\n",
      "\n",
      "reader = csv.reader(StringIO(r.content))\n",
      "\n",
      "lines = reader\n",
      "lines[:1]"
     ],
     "language": "python",
     "metadata": {},
     "outputs": [],
     "prompt_number": "*"
    },
    {
     "cell_type": "code",
     "collapsed": false,
     "input": [
      "import numpy\n",
      "\n",
      "prices_paid = [int(line[1]) for line in lines]\n",
      "\n",
      "dict(\n",
      "    count=\"{0:,d}\".format(len(prices_paid)),\n",
      "    min=\"{0:,d}\".format(numpy.amin(prices_paid)),\n",
      "    max=\"{0:,d}\".format(numpy.amax(prices_paid)),\n",
      "    average=\"{0:.2f}\".format(numpy.average(prices_paid))\n",
      ")"
     ],
     "language": "python",
     "metadata": {},
     "outputs": [
      {
       "metadata": {},
       "output_type": "pyout",
       "prompt_number": 6,
       "text": [
        "{'average': '254423.52',\n",
        " 'count': '437,952',\n",
        " 'max': '27,900,000',\n",
        " 'min': '7,000'}"
       ]
      }
     ],
     "prompt_number": 6
    }
   ],
   "metadata": {}
  }
 ]
}