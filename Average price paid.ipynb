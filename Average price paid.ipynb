{
 "metadata": {
  "name": "",
  "signature": "sha256:467847f62009c4e20173a5c55883cf82f24959bfad7e259b6399286681cb03a0"
 },
 "nbformat": 3,
 "nbformat_minor": 0,
 "worksheets": [
  {
   "cells": [
    {
     "cell_type": "markdown",
     "metadata": {},
     "source": [
      "What is the average price paid for houses so far in 2014 in the UK?\n",
      "-------------------------------------------------------------------"
     ]
    },
    {
     "cell_type": "code",
     "collapsed": false,
     "input": [
      "#import requests\n",
      "#r = requests.get(\"http://publicdata.landregistry.gov.uk/market-trend-data/price-paid-data/b/pp-2014.csv\")\n",
      "f = open(\"pp-2014.csv\")"
     ],
     "language": "python",
     "metadata": {},
     "outputs": [],
     "prompt_number": 1
    },
    {
     "cell_type": "code",
     "collapsed": false,
     "input": [
      "from StringIO import StringIO\n",
      "import csv\n",
      "\n",
      "#reader = csv.reader(StringIO(r.content))\n",
      "reader = csv.reader(f)\n",
      "\n",
      "lines = list(reader)\n",
      "lines[:1]"
     ],
     "language": "python",
     "metadata": {},
     "outputs": [
      {
       "metadata": {},
       "output_type": "pyout",
       "prompt_number": 3,
       "text": [
        "[['{28546906-0904-4AE6-AC52-0000473026D5}',\n",
        "  '69995',\n",
        "  '2014-04-17 00:00',\n",
        "  'B96 6BW',\n",
        "  'F',\n",
        "  'N',\n",
        "  'L',\n",
        "  'EASTWOOD COURT, 2',\n",
        "  'FLAT 21',\n",
        "  'FOREGATE STREET',\n",
        "  'ASTWOOD BANK',\n",
        "  'REDDITCH',\n",
        "  'REDDITCH',\n",
        "  'WORCESTERSHIRE',\n",
        "  'A']]"
       ]
      }
     ],
     "prompt_number": 3
    },
    {
     "cell_type": "code",
     "collapsed": false,
     "input": [
      "import numpy\n",
      "\n",
      "prices_paid = [int(line[1]) for line in lines]\n",
      "\n",
      "dict(\n",
      "    count=\"{0:,d}\".format(len(prices_paid)),\n",
      "    min=\"{0:,d}\".format(numpy.amin(prices_paid)),\n",
      "    max=\"{0:,d}\".format(numpy.amax(prices_paid)),\n",
      "    average=\"{0:.2f}\".format(numpy.average(prices_paid))\n",
      ")"
     ],
     "language": "python",
     "metadata": {},
     "outputs": [
      {
       "metadata": {},
       "output_type": "pyout",
       "prompt_number": 4,
       "text": [
        "{'average': '254423.52',\n",
        " 'count': '437,952',\n",
        " 'max': '27,900,000',\n",
        " 'min': '7,000'}"
       ]
      }
     ],
     "prompt_number": 4
    }
   ],
   "metadata": {}
  }
 ]
}