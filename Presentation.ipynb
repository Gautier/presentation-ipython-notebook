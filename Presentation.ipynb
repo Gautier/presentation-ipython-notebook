{
 "metadata": {
  "celltoolbar": "Slideshow",
  "name": "",
  "signature": "sha256:9cded3c517cabd0f2058e8045f5aff39c1a00c5bd89edec6ffc94e0986e6c6a1"
 },
 "nbformat": 3,
 "nbformat_minor": 0,
 "worksheets": [
  {
   "cells": [
    {
     "cell_type": "markdown",
     "metadata": {
      "slideshow": {
       "slide_type": "slide"
      }
     },
     "source": [
      "The IPython notebook is for everybody\n",
      "=====================================\n",
      "\n",
      "Gautier Hayoun, Fry-IT\n",
      "\n",
      "PyConUK 2014"
     ]
    },
    {
     "cell_type": "markdown",
     "metadata": {
      "slideshow": {
       "slide_type": "slide"
      }
     },
     "source": [
      "What is IPython?\n",
      "================\n",
      "\n",
      "Advanced python interpreter \n",
      "\n",
      "1. tab completion\n",
      "2. object exploration\n",
      "3. good history\n",
      "4. shell commands (ls, cp...)"
     ]
    },
    {
     "cell_type": "markdown",
     "metadata": {
      "slideshow": {
       "slide_type": "subslide"
      }
     },
     "source": [
      "The IPython architecture\n",
      "========================\n",
      "\n",
      "![The architecture of IPython](/kernel.png)"
     ]
    },
    {
     "cell_type": "markdown",
     "metadata": {
      "slideshow": {
       "slide_type": "slide"
      }
     },
     "source": [
      "And what is the IPython notebook?\n",
      "=================================\n",
      "\n",
      "A **browser-based notebook** with support for **code**, **text**, mathematical expressions, inline plots and other rich media\n",
      "\n",
      "![A picture of a notebook](/notebook.jpg)"
     ]
    },
    {
     "cell_type": "markdown",
     "metadata": {
      "slideshow": {
       "slide_type": "slide"
      }
     },
     "source": [
      "A simple example\n",
      "================\n",
      "\n",
      "Two factorial implementations and a few bits"
     ]
    },
    {
     "cell_type": "markdown",
     "metadata": {
      "slideshow": {
       "slide_type": "slide"
      }
     },
     "source": [
      "What is it good for?\n",
      "====================\n",
      "\n",
      "1. individual data exploratory work\n",
      "\n",
      "2. collaboration\n",
      "\n",
      "3. publication"
     ]
    },
    {
     "cell_type": "markdown",
     "metadata": {
      "slideshow": {
       "slide_type": "slide"
      }
     },
     "source": [
      "individual data exploratory work\n",
      "================================\n",
      "\n",
      "What's the average price paid for houses so far in 2014 in the UK?"
     ]
    },
    {
     "cell_type": "markdown",
     "metadata": {
      "slideshow": {
       "slide_type": "slide"
      }
     },
     "source": [
      "Collaboration\n",
      "=============\n",
      "\n",
      "1. Readable self-contained notebooks\n",
      "2. Share the .ipynb files\n",
      "3. Use the same notebook server"
     ]
    },
    {
     "cell_type": "markdown",
     "metadata": {
      "slideshow": {
       "slide_type": "subslide"
      }
     },
     "source": [
      "Warning!\n",
      "========\n",
      "\n",
      "![Warning](/warning_gangam.png)"
     ]
    },
    {
     "cell_type": "markdown",
     "metadata": {
      "slideshow": {
       "slide_type": "subslide"
      }
     },
     "source": [
      "Collaboration\n",
      "=============\n",
      "\n",
      "Good point : readable, self-contained documents\n",
      "\n",
      "\n",
      "Bad point : unperfect tools"
     ]
    },
    {
     "cell_type": "markdown",
     "metadata": {
      "slideshow": {
       "slide_type": "subslide"
      }
     },
     "source": [
      "Collaboration example\n",
      "=====================\n",
      "\n",
      "What is the distribution of price paid for houses so far in 2014 in Lambeth?"
     ]
    },
    {
     "cell_type": "markdown",
     "metadata": {
      "slideshow": {
       "slide_type": "slide"
      }
     },
     "source": [
      "Publication\n",
      "===========\n",
      "\n",
      "1. Save notebooks as HTML, .rst, .py, .ipynb\n",
      "2. nbviewer serve read-only versions of notebooks saved on the web (http://nbviewer.ipython.org/)\n",
      "3. ipython nbconvert command line tool converts notebooks to various formats"
     ]
    },
    {
     "cell_type": "markdown",
     "metadata": {
      "slideshow": {
       "slide_type": "slide"
      }
     },
     "source": [
      "The IPython notebook is for everybody, you say?\n",
      "===============================================\n",
      "\n",
      "![Everybody](/sgt_peppers.jpg)"
     ]
    },
    {
     "cell_type": "markdown",
     "metadata": {
      "slideshow": {
       "slide_type": "slide"
      }
     },
     "source": [
      "How do you use the IPython notebook?\n",
      "====================================\n",
      "\n",
      "Please send feedback to **gautier@fry-it.com**\n",
      "\n",
      "Presentation materials : https://bitbucket.org/gowtier/presentation-ipython-notebook"
     ]
    }
   ],
   "metadata": {}
  }
 ]
}