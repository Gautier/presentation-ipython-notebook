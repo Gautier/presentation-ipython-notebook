{
 "metadata": {
  "celltoolbar": "Slideshow",
  "name": "",
  "signature": "sha256:04ce4bb7b758214af99621c859c41c6c8f79ef9dc91e6b34cfdb50eea75fa395"
 },
 "nbformat": 3,
 "nbformat_minor": 0,
 "worksheets": [
  {
   "cells": [
    {
     "cell_type": "markdown",
     "metadata": {
      "slideshow": {
       "slide_type": "slide"
      }
     },
     "source": [
      "The IPython notebook is for everybody\n",
      "=====================================\n",
      "\n",
      "Gautier Hayoun\n",
      "\n",
      "PyConUK 2014"
     ]
    },
    {
     "cell_type": "markdown",
     "metadata": {
      "slideshow": {
       "slide_type": "slide"
      }
     },
     "source": [
      "What is IPython?\n",
      "================\n",
      "\n",
      "Advanced python interpreter \n",
      "\n",
      "1. tab completion\n",
      "2. object exploration\n",
      "3. good history\n",
      "4. shell commands"
     ]
    },
    {
     "cell_type": "markdown",
     "metadata": {
      "slideshow": {
       "slide_type": "subslide"
      }
     },
     "source": [
      "The IPython architecture\n",
      "========================\n",
      "\n",
      "![The architecture of IPython](/kernel.png)"
     ]
    },
    {
     "cell_type": "markdown",
     "metadata": {
      "slideshow": {
       "slide_type": "slide"
      }
     },
     "source": [
      "And what is the IPython notebook?\n",
      "=================================\n",
      "\n",
      "A **browser-based notebook** with support for **code**, **text**, mathematical expressions, inline plots and other rich media.\n",
      "\n",
      "![A picture of a notebook](/notebook.jpg)"
     ]
    },
    {
     "cell_type": "markdown",
     "metadata": {
      "slideshow": {
       "slide_type": "slide"
      }
     },
     "source": [
      "A simple example\n",
      "================\n",
      "\n",
      "Let's time two factorial implementations"
     ]
    },
    {
     "cell_type": "markdown",
     "metadata": {
      "slideshow": {
       "slide_type": "slide"
      }
     },
     "source": [
      "What is it good for?\n",
      "====================\n",
      "\n",
      "1. individual exploratory work\n",
      "\n",
      "2. collaboration\n",
      "\n",
      "3. publication"
     ]
    },
    {
     "cell_type": "markdown",
     "metadata": {
      "slideshow": {
       "slide_type": "slide"
      }
     },
     "source": [
      "individual exploratory work\n",
      "===========================\n",
      "\n",
      "What's the average price paid for houses so far in 2014 in the UK?"
     ]
    },
    {
     "cell_type": "markdown",
     "metadata": {
      "slideshow": {
       "slide_type": "slide"
      }
     },
     "source": [
      "Collaboration\n",
      "=============\n",
      "\n",
      "1. Readable self-contained notebooks\n",
      "2. Share the .ipynb files\n",
      "3. Use the same notebook server"
     ]
    },
    {
     "cell_type": "markdown",
     "metadata": {
      "slideshow": {
       "slide_type": "subslide"
      }
     },
     "source": [
      "Warning!\n",
      "========\n",
      "\n",
      "![Warning](/warning_gangam.png)"
     ]
    },
    {
     "cell_type": "markdown",
     "metadata": {
      "slideshow": {
       "slide_type": "subslide"
      }
     },
     "source": [
      "Collaboration example\n",
      "=====================\n",
      "\n",
      "What is the distribution of price paid for houses so far in 2014 in Lambeth?"
     ]
    },
    {
     "cell_type": "markdown",
     "metadata": {
      "slideshow": {
       "slide_type": "slide"
      }
     },
     "source": [
      "Publication\n",
      "===========\n",
      "\n",
      "1. Save as HTML, .rst, .py, .ipynb\n",
      "2. nbviewer serve read-only versions of notebooks saved on the web (https://nbviewer.ipython.org/)\n",
      "3. nbconvert to various format"
     ]
    },
    {
     "cell_type": "markdown",
     "metadata": {
      "slideshow": {
       "slide_type": "slide"
      }
     },
     "source": [
      "The IPython notebook is for everybody, you say?\n",
      "===============================================\n",
      "\n",
      "![Everybody](/sgt_peppers.jpg)"
     ]
    },
    {
     "cell_type": "markdown",
     "metadata": {
      "slideshow": {
       "slide_type": "slide"
      }
     },
     "source": [
      "How do you use the IPython notebook?\n",
      "===================================="
     ]
    }
   ],
   "metadata": {}
  }
 ]
}